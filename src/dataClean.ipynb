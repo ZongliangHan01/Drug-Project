{
 "cells": [
  {
   "cell_type": "code",
   "execution_count": 76,
   "metadata": {},
   "outputs": [],
   "source": [
    "import pandas as pd\n",
    "import json\n",
    "import numpy as np\n",
    "import datetime"
   ]
  },
  {
   "cell_type": "code",
   "execution_count": 78,
   "metadata": {},
   "outputs": [
    {
     "name": "stderr",
     "output_type": "stream",
     "text": [
      "/var/folders/xr/k8w2v67j76n61jc0bhbwyjz00000gn/T/ipykernel_37307/1750479401.py:16: FutureWarning: Comparison of NaT with datetime.date is deprecated in order to match the standard library behavior.  In a future version these will be considered non-comparable.\n",
      "  pd.Timestamp(phase[\"endDate\"]).date() < datetime.date(2024, 5, 1) and\n"
     ]
    }
   ],
   "source": [
    "for i in range (5):\n",
    "    with open(f'../data/data{i}.json') as f:\n",
    "            d = json.load(f)\n",
    "        \n",
    "    df = pd.json_normalize(data=d['drugSuccessPredictions'], record_path='drugPrograms', meta=['drugId', 'displayName'])\n",
    "\n",
    "    filtered_data = [\n",
    "        {\n",
    "            \"drugId\": dp[\"drugId\"],\n",
    "            \"displayName\": dp[\"displayName\"],\n",
    "            \"drugPrograms\": [prog \n",
    "                            for prog in dp[\"drugPrograms\"] \n",
    "                            if (\n",
    "                                    any(\n",
    "                                            (phase[\"phase\"] == \"Pre-Reg\" and \n",
    "                                            pd.Timestamp(phase[\"endDate\"]).date() < datetime.date(2024, 5, 1) and \n",
    "                                            pd.Timestamp(phase[\"endDate\"]).date() > datetime.date(2023, 11, 1)) \n",
    "                                            for phase in prog[\"phaseTimelines\"]\n",
    "                                        ))]\n",
    "        }\n",
    "        for dp in d[\"drugSuccessPredictions\"]\n",
    "    ]\n",
    "\n",
    "    df = pd.json_normalize(\n",
    "            data=filtered_data, \n",
    "            record_path=['drugPrograms', 'phaseTimelines'], \n",
    "            meta=[\n",
    "                    'drugId', \n",
    "                    'displayName', \n",
    "                    ['drugPrograms', 'indication', 'name'], \n",
    "                    ['drugPrograms', 'company', 'name'], \n",
    "                    ['drugPrograms', 'country', 'name'], \n",
    "                    ['drugPrograms', 'phaseHighestStatus'], \n",
    "                    ['drugPrograms', 'probabilityOfSuccess']])\n",
    "\n",
    "    selected_columns = ['drugId', 'displayName', 'drugPrograms.indication.name', 'drugPrograms.company.name', 'drugPrograms.country.name', 'drugPrograms.probabilityOfSuccess', 'phase', 'startDate', 'endDate', 'successPercentage']\n",
    "    df = df[selected_columns]\n",
    "    df = df.rename(columns={'drugPrograms.indication.name': 'indication', 'drugPrograms.company.name': 'company', 'drugPrograms.country.name': 'country', 'drugPrograms.probabilityOfSuccess': 'probabilityOfSuccess'})\n",
    "    df = df[df['country'] == 'US']\n",
    "    df = df[df['probabilityOfSuccess'].str.rstrip('%').astype('float') / 100 > 0.9]\n",
    "    df_less = df[df['phase'] == 'Pre-Reg']\n",
    "    df_less.to_csv(f'../results/less/data{i}.csv')\n",
    "    df.to_csv(f'../results/more/data{i}.csv')\n"
   ]
  },
  {
   "cell_type": "code",
   "execution_count": 75,
   "metadata": {},
   "outputs": [],
   "source": [
    "dfs_less = []\n",
    "for i in range (5):\n",
    "    df = pd.read_csv(f'../results/less/data{i}.csv')\n",
    "    dfs_less.append(df)\n",
    "combined_df = pd.concat(dfs_less, ignore_index=True).drop(\"Unnamed: 0\", axis=1) \n",
    "combined_df.to_csv('../results/final/selected_drug.csv')\n",
    "\n",
    "dfs_more = []\n",
    "for i in range (5):\n",
    "    df = pd.read_csv(f'../results/more/data{i}.csv')\n",
    "    dfs_more.append(df)\n",
    "combined_df = pd.concat(dfs_more, ignore_index=True).drop(\"Unnamed: 0\", axis=1) \n",
    "combined_df.to_csv('../results/final/selected_drug_phases.csv')"
   ]
  }
 ],
 "metadata": {
  "kernelspec": {
   "display_name": "base",
   "language": "python",
   "name": "python3"
  },
  "language_info": {
   "codemirror_mode": {
    "name": "ipython",
    "version": 3
   },
   "file_extension": ".py",
   "mimetype": "text/x-python",
   "name": "python",
   "nbconvert_exporter": "python",
   "pygments_lexer": "ipython3",
   "version": "3.9.7"
  }
 },
 "nbformat": 4,
 "nbformat_minor": 2
}
